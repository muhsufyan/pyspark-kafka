{
 "cells": [
  {
   "cell_type": "code",
   "execution_count": 1,
   "id": "2bd78d96",
   "metadata": {},
   "outputs": [
    {
     "name": "stdout",
     "output_type": "stream",
     "text": [
      "Collecting kafka-python\n",
      "  Downloading kafka_python-2.0.2-py2.py3-none-any.whl (246 kB)\n",
      "\u001b[K     |████████████████████████████████| 246 kB 1.1 MB/s eta 0:00:01\n",
      "\u001b[?25hInstalling collected packages: kafka-python\n",
      "Successfully installed kafka-python-2.0.2\n"
     ]
    }
   ],
   "source": [
    "!pip install kafka-python"
   ]
  },
  {
   "cell_type": "code",
   "execution_count": null,
   "id": "17fd1883",
   "metadata": {},
   "outputs": [],
   "source": [
    "import pandas as pd\n",
    "from kafka import KafkaProducer\n",
    "from datetime import datetime\n",
    "import time\n",
    "import random\n",
    "import numpy as np\n",
    "\n",
    "# pip install kafka-python\n",
    "\n",
    "KAFKA_TOPIC_NAME_CONS = \"iris\"\n",
    "KAFKA_BOOTSTRAP_SERVERS_CONS = 'localhost:9092'\n",
    "\n",
    "if __name__ == \"__main__\":\n",
    "    print(\"Kafka Producer Application Started ... \")\n",
    "\n",
    "    kafka_producer_obj = KafkaProducer(bootstrap_servers=KAFKA_BOOTSTRAP_SERVERS_CONS,\n",
    "                                       value_serializer=lambda x: x.encode('utf-8'))\n",
    "    \n",
    "    filepath = \"https://gist.githubusercontent.com/curran/a08a1080b88344b0c8a7/raw/0e7a9b0a5d22642a06d3d5b9bcbad9890c8ee534/iris.csv\"\n",
    "    \n",
    "    flower_df = pd.read_csv(filepath)\n",
    "  \n",
    "    flower_df['order_id'] = np.arange(len(flower_df))\n",
    "\n",
    "    \n",
    "    flower_list = flower_df.to_dict(orient=\"records\")\n",
    "       \n",
    "\n",
    "    message_list = []\n",
    "    message = None\n",
    "    for message in flower_list:\n",
    "        \n",
    "        message_fields_value_list = []\n",
    "               \n",
    "        message_fields_value_list.append(message[\"order_id\"])\n",
    "        message_fields_value_list.append(message[\"sepal_length\"])\n",
    "        message_fields_value_list.append(message[\"sepal_width\"])\n",
    "        message_fields_value_list.append(message[\"petal_length\"])\n",
    "        message_fields_value_list.append(message[\"petal_width\"])\n",
    "        message_fields_value_list.append(message[\"species\"])\n",
    "\n",
    "        message = ','.join(str(v) for v in message_fields_value_list)\n",
    "        print(\"Message Type: \", type(message))\n",
    "        print(\"Message: \", message)\n",
    "        kafka_producer_obj.send(KAFKA_TOPIC_NAME_CONS, message)\n",
    "        time.sleep(1)\n",
    "\n",
    "    print(\"Kafka Producer Application Completed. \")"
   ]
  }
 ],
 "metadata": {
  "kernelspec": {
   "display_name": "Python 3 (ipykernel)",
   "language": "python",
   "name": "python3"
  },
  "language_info": {
   "codemirror_mode": {
    "name": "ipython",
    "version": 3
   },
   "file_extension": ".py",
   "mimetype": "text/x-python",
   "name": "python",
   "nbconvert_exporter": "python",
   "pygments_lexer": "ipython3",
   "version": "3.8.10"
  }
 },
 "nbformat": 4,
 "nbformat_minor": 5
}
