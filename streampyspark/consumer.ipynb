{
 "cells": [
  {
   "cell_type": "code",
   "execution_count": 5,
   "id": "a0d071c4",
   "metadata": {},
   "outputs": [
    {
     "ename": "IllegalArgumentException",
     "evalue": "Cannot start query with name testedTable as a query with that name is already active in this SparkSession",
     "output_type": "error",
     "traceback": [
      "\u001b[0;31m---------------------------------------------------------------------------\u001b[0m",
      "\u001b[0;31mIllegalArgumentException\u001b[0m                  Traceback (most recent call last)",
      "\u001b[1;32m/home/kafka/streampyspark/consumer.ipynb Cell 2\u001b[0m in \u001b[0;36m<cell line: 50>\u001b[0;34m()\u001b[0m\n\u001b[1;32m     <a href='vscode-notebook-cell:/home/kafka/streampyspark/consumer.ipynb#W1sZmlsZQ%3D%3D?line=47'>48</a>\u001b[0m flower_df3\u001b[39m.\u001b[39mcreateOrReplaceTempView(\u001b[39m\"\u001b[39m\u001b[39mflower_find\u001b[39m\u001b[39m\"\u001b[39m);\n\u001b[1;32m     <a href='vscode-notebook-cell:/home/kafka/streampyspark/consumer.ipynb#W1sZmlsZQ%3D%3D?line=48'>49</a>\u001b[0m song_find_text \u001b[39m=\u001b[39m spark\u001b[39m.\u001b[39msql(\u001b[39m\"\u001b[39m\u001b[39mSELECT * FROM flower_find\u001b[39m\u001b[39m\"\u001b[39m)\n\u001b[0;32m---> <a href='vscode-notebook-cell:/home/kafka/streampyspark/consumer.ipynb#W1sZmlsZQ%3D%3D?line=49'>50</a>\u001b[0m flower_agg_write_stream \u001b[39m=\u001b[39m song_find_text \\\n\u001b[1;32m     <a href='vscode-notebook-cell:/home/kafka/streampyspark/consumer.ipynb#W1sZmlsZQ%3D%3D?line=50'>51</a>\u001b[0m         \u001b[39m.\u001b[39;49mwriteStream \\\n\u001b[1;32m     <a href='vscode-notebook-cell:/home/kafka/streampyspark/consumer.ipynb#W1sZmlsZQ%3D%3D?line=51'>52</a>\u001b[0m         \u001b[39m.\u001b[39;49mtrigger(processingTime\u001b[39m=\u001b[39;49m\u001b[39m'\u001b[39;49m\u001b[39m5 seconds\u001b[39;49m\u001b[39m'\u001b[39;49m) \\\n\u001b[1;32m     <a href='vscode-notebook-cell:/home/kafka/streampyspark/consumer.ipynb#W1sZmlsZQ%3D%3D?line=52'>53</a>\u001b[0m         \u001b[39m.\u001b[39;49moutputMode(\u001b[39m\"\u001b[39;49m\u001b[39mappend\u001b[39;49m\u001b[39m\"\u001b[39;49m) \\\n\u001b[1;32m     <a href='vscode-notebook-cell:/home/kafka/streampyspark/consumer.ipynb#W1sZmlsZQ%3D%3D?line=53'>54</a>\u001b[0m         \u001b[39m.\u001b[39;49moption(\u001b[39m\"\u001b[39;49m\u001b[39mtruncate\u001b[39;49m\u001b[39m\"\u001b[39;49m, \u001b[39m\"\u001b[39;49m\u001b[39mfalse\u001b[39;49m\u001b[39m\"\u001b[39;49m) \\\n\u001b[1;32m     <a href='vscode-notebook-cell:/home/kafka/streampyspark/consumer.ipynb#W1sZmlsZQ%3D%3D?line=54'>55</a>\u001b[0m         \u001b[39m.\u001b[39;49mformat(\u001b[39m\"\u001b[39;49m\u001b[39mmemory\u001b[39;49m\u001b[39m\"\u001b[39;49m) \\\n\u001b[1;32m     <a href='vscode-notebook-cell:/home/kafka/streampyspark/consumer.ipynb#W1sZmlsZQ%3D%3D?line=55'>56</a>\u001b[0m         \u001b[39m.\u001b[39;49mqueryName(\u001b[39m\"\u001b[39;49m\u001b[39mtestedTable\u001b[39;49m\u001b[39m\"\u001b[39;49m) \\\n\u001b[1;32m     <a href='vscode-notebook-cell:/home/kafka/streampyspark/consumer.ipynb#W1sZmlsZQ%3D%3D?line=56'>57</a>\u001b[0m         \u001b[39m.\u001b[39;49mstart()\n\u001b[1;32m     <a href='vscode-notebook-cell:/home/kafka/streampyspark/consumer.ipynb#W1sZmlsZQ%3D%3D?line=58'>59</a>\u001b[0m flower_agg_write_stream\u001b[39m.\u001b[39mawaitTermination(\u001b[39m1\u001b[39m)\n",
      "File \u001b[0;32m/home/kafka/streampyspark/env/lib/python3.8/site-packages/pyspark/sql/streaming.py:1202\u001b[0m, in \u001b[0;36mDataStreamWriter.start\u001b[0;34m(self, path, format, outputMode, partitionBy, queryName, **options)\u001b[0m\n\u001b[1;32m   1200\u001b[0m     \u001b[39mself\u001b[39m\u001b[39m.\u001b[39mqueryName(queryName)\n\u001b[1;32m   1201\u001b[0m \u001b[39mif\u001b[39;00m path \u001b[39mis\u001b[39;00m \u001b[39mNone\u001b[39;00m:\n\u001b[0;32m-> 1202\u001b[0m     \u001b[39mreturn\u001b[39;00m \u001b[39mself\u001b[39m\u001b[39m.\u001b[39m_sq(\u001b[39mself\u001b[39;49m\u001b[39m.\u001b[39;49m_jwrite\u001b[39m.\u001b[39;49mstart())\n\u001b[1;32m   1203\u001b[0m \u001b[39melse\u001b[39;00m:\n\u001b[1;32m   1204\u001b[0m     \u001b[39mreturn\u001b[39;00m \u001b[39mself\u001b[39m\u001b[39m.\u001b[39m_sq(\u001b[39mself\u001b[39m\u001b[39m.\u001b[39m_jwrite\u001b[39m.\u001b[39mstart(path))\n",
      "File \u001b[0;32m/home/kafka/streampyspark/env/lib/python3.8/site-packages/py4j/java_gateway.py:1321\u001b[0m, in \u001b[0;36mJavaMember.__call__\u001b[0;34m(self, *args)\u001b[0m\n\u001b[1;32m   1315\u001b[0m command \u001b[39m=\u001b[39m proto\u001b[39m.\u001b[39mCALL_COMMAND_NAME \u001b[39m+\u001b[39m\\\n\u001b[1;32m   1316\u001b[0m     \u001b[39mself\u001b[39m\u001b[39m.\u001b[39mcommand_header \u001b[39m+\u001b[39m\\\n\u001b[1;32m   1317\u001b[0m     args_command \u001b[39m+\u001b[39m\\\n\u001b[1;32m   1318\u001b[0m     proto\u001b[39m.\u001b[39mEND_COMMAND_PART\n\u001b[1;32m   1320\u001b[0m answer \u001b[39m=\u001b[39m \u001b[39mself\u001b[39m\u001b[39m.\u001b[39mgateway_client\u001b[39m.\u001b[39msend_command(command)\n\u001b[0;32m-> 1321\u001b[0m return_value \u001b[39m=\u001b[39m get_return_value(\n\u001b[1;32m   1322\u001b[0m     answer, \u001b[39mself\u001b[39;49m\u001b[39m.\u001b[39;49mgateway_client, \u001b[39mself\u001b[39;49m\u001b[39m.\u001b[39;49mtarget_id, \u001b[39mself\u001b[39;49m\u001b[39m.\u001b[39;49mname)\n\u001b[1;32m   1324\u001b[0m \u001b[39mfor\u001b[39;00m temp_arg \u001b[39min\u001b[39;00m temp_args:\n\u001b[1;32m   1325\u001b[0m     temp_arg\u001b[39m.\u001b[39m_detach()\n",
      "File \u001b[0;32m/home/kafka/streampyspark/env/lib/python3.8/site-packages/pyspark/sql/utils.py:117\u001b[0m, in \u001b[0;36mcapture_sql_exception.<locals>.deco\u001b[0;34m(*a, **kw)\u001b[0m\n\u001b[1;32m    113\u001b[0m converted \u001b[39m=\u001b[39m convert_exception(e\u001b[39m.\u001b[39mjava_exception)\n\u001b[1;32m    114\u001b[0m \u001b[39mif\u001b[39;00m \u001b[39mnot\u001b[39;00m \u001b[39misinstance\u001b[39m(converted, UnknownException):\n\u001b[1;32m    115\u001b[0m     \u001b[39m# Hide where the exception came from that shows a non-Pythonic\u001b[39;00m\n\u001b[1;32m    116\u001b[0m     \u001b[39m# JVM exception message.\u001b[39;00m\n\u001b[0;32m--> 117\u001b[0m     \u001b[39mraise\u001b[39;00m converted \u001b[39mfrom\u001b[39;00m \u001b[39mNone\u001b[39m\n\u001b[1;32m    118\u001b[0m \u001b[39melse\u001b[39;00m:\n\u001b[1;32m    119\u001b[0m     \u001b[39mraise\u001b[39;00m\n",
      "\u001b[0;31mIllegalArgumentException\u001b[0m: Cannot start query with name testedTable as a query with that name is already active in this SparkSession"
     ]
    }
   ],
   "source": [
    "from pyspark.sql import SparkSession\n",
    "from pyspark.sql.functions import *\n",
    "from pyspark.ml.feature import Normalizer, StandardScaler\n",
    "import random\n",
    "\n",
    "import time\n",
    "import os\n",
    "\n",
    "# setup arguments\n",
    "spark_v = '3.2.1'\n",
    "scala_v= '2.12'\n",
    "os.environ['PYSPARK_SUBMIT_ARGS'] = f'--packages org.apache.spark:spark-sql-kafka-0-10_{scala_v}:{spark_v} pyspark-shell'\n",
    "kafka_topic_name = \"iris\"\n",
    "kafka_bootstrap_servers = 'localhost:9092'\n",
    "\n",
    "spark = SparkSession \\\n",
    "        .builder \\\n",
    "        .appName(\"Structured Streaming \") \\\n",
    "        .master(\"local[*]\") \\\n",
    "        .getOrCreate()\n",
    "\n",
    "spark.sparkContext.setLogLevel(\"ERROR\")\n",
    "\n",
    "# Construct a streaming DataFrame that reads from topic\n",
    "flower_df = spark \\\n",
    "        .readStream \\\n",
    "        .format(\"kafka\") \\\n",
    "        .option(\"kafka.bootstrap.servers\", kafka_bootstrap_servers) \\\n",
    "        .option(\"subscribe\", kafka_topic_name) \\\n",
    "        .option(\"startingOffsets\", \"latest\") \\\n",
    "        .load()\n",
    "# get data and set all to sring\n",
    "flower_df1 = flower_df.selectExpr(\"CAST(value AS STRING)\", \"timestamp\")\n",
    "\n",
    "# schema for data (like schema on filter db)\n",
    "flower_schema_string = \"order_id INT,sepal_length DOUBLE,sepal_length DOUBLE,sepal_length DOUBLE,sepal_length DOUBLE,species STRING\"\n",
    "\n",
    "\n",
    "\n",
    "flower_df2 = flower_df1 \\\n",
    "        .select(from_csv(col(\"value\"), flower_schema_string) \\\n",
    "                .alias(\"flower\"), \"timestamp\")\n",
    "\n",
    "\n",
    "flower_df3 = flower_df2.select(\"flower.*\", \"timestamp\")\n",
    "\n",
    "    \n",
    "flower_df3.createOrReplaceTempView(\"flower_find\");\n",
    "song_find_text = spark.sql(\"SELECT * FROM flower_find\")\n",
    "flower_agg_write_stream = song_find_text \\\n",
    "        .writeStream \\\n",
    "        .trigger(processingTime='5 seconds') \\\n",
    "        .outputMode(\"append\") \\\n",
    "        .option(\"truncate\", \"false\") \\\n",
    "        .format(\"memory\") \\\n",
    "        .queryName(\"testedTable\") \\\n",
    "        .start()\n",
    "\n",
    "flower_agg_write_stream.awaitTermination(1)"
   ]
  },
  {
   "cell_type": "code",
   "execution_count": 7,
   "id": "7032bb37",
   "metadata": {},
   "outputs": [
    {
     "name": "stdout",
     "output_type": "stream",
     "text": [
      "+--------+------------+------------+------------+------------+-------+--------------------+\n",
      "|order_id|sepal_length|sepal_length|sepal_length|sepal_length|species|           timestamp|\n",
      "+--------+------------+------------+------------+------------+-------+--------------------+\n",
      "|       1|         4.9|         4.9|         4.9|         4.9| setosa|2022-09-15 18:35:...|\n",
      "|       2|         4.7|         4.7|         4.7|         4.7| setosa|2022-09-15 18:35:...|\n",
      "|       3|         4.6|         4.6|         4.6|         4.6| setosa|2022-09-15 18:35:...|\n",
      "+--------+------------+------------+------------+------------+-------+--------------------+\n",
      "only showing top 3 rows\n",
      "\n"
     ]
    }
   ],
   "source": [
    "df = spark.sql(\"SELECT * FROM testedTable\")\n",
    "df.show(3)"
   ]
  },
  {
   "cell_type": "code",
   "execution_count": 10,
   "id": "632bac78",
   "metadata": {},
   "outputs": [
    {
     "data": {
      "text/plain": [
       "91"
      ]
     },
     "execution_count": 10,
     "metadata": {},
     "output_type": "execute_result"
    }
   ],
   "source": [
    "df.count()"
   ]
  },
  {
   "cell_type": "code",
   "execution_count": 13,
   "id": "5bcdf578",
   "metadata": {},
   "outputs": [
    {
     "name": "stderr",
     "output_type": "stream",
     "text": [
      "                                                                                \r"
     ]
    },
    {
     "data": {
      "text/plain": [
       "146"
      ]
     },
     "execution_count": 13,
     "metadata": {},
     "output_type": "execute_result"
    }
   ],
   "source": [
    "df.count()"
   ]
  },
  {
   "cell_type": "code",
   "execution_count": 7,
   "id": "e6977f7a",
   "metadata": {},
   "outputs": [
    {
     "name": "stdout",
     "output_type": "stream",
     "text": [
      "+--------+------------+------------+------------+------------+-------+--------------------+\n",
      "|order_id|sepal_length|sepal_length|sepal_length|sepal_length|species|           timestamp|\n",
      "+--------+------------+------------+------------+------------+-------+--------------------+\n",
      "|       0|         5.1|         5.1|         5.1|         5.1| setosa|2022-05-28 17:28:...|\n",
      "|       1|         4.9|         4.9|         4.9|         4.9| setosa|2022-05-28 17:28:...|\n",
      "|       2|         4.7|         4.7|         4.7|         4.7| setosa|2022-05-28 17:28:...|\n",
      "|       3|         4.6|         4.6|         4.6|         4.6| setosa|2022-05-28 17:28:...|\n",
      "|       4|         5.0|         5.0|         5.0|         5.0| setosa|2022-05-28 17:28:...|\n",
      "|       5|         5.4|         5.4|         5.4|         5.4| setosa|2022-05-28 17:28:...|\n",
      "|       6|         4.6|         4.6|         4.6|         4.6| setosa|2022-05-28 17:28:...|\n",
      "|       7|         5.0|         5.0|         5.0|         5.0| setosa|2022-05-28 17:28:...|\n",
      "|       8|         4.4|         4.4|         4.4|         4.4| setosa|2022-05-28 17:28:...|\n",
      "|       9|         4.9|         4.9|         4.9|         4.9| setosa|2022-05-28 17:28:...|\n",
      "|      10|         5.4|         5.4|         5.4|         5.4| setosa|2022-05-28 17:28:...|\n",
      "|      11|         4.8|         4.8|         4.8|         4.8| setosa|2022-05-28 17:28:...|\n",
      "+--------+------------+------------+------------+------------+-------+--------------------+\n",
      "only showing top 12 rows\n",
      "\n"
     ]
    },
    {
     "name": "stderr",
     "output_type": "stream",
     "text": [
      "\r\n",
      "[Stage 26:>                                                         (0 + 1) / 1]\r\n",
      "\r\n",
      "                                                                                \r"
     ]
    }
   ],
   "source": [
    "df.show(12)"
   ]
  },
  {
   "cell_type": "code",
   "execution_count": null,
   "id": "6702c019",
   "metadata": {},
   "outputs": [],
   "source": [
    "!/opt/spark/bin/spark-shell"
   ]
  },
  {
   "cell_type": "code",
   "execution_count": null,
   "id": "b8d84f2f",
   "metadata": {},
   "outputs": [],
   "source": [
    "spark  version 3.2.1\n",
    "         \n",
    "Using Scala version 2.13.5 (OpenJDK 64-Bit Server VM, Java 11.0.15)"
   ]
  },
  {
   "cell_type": "code",
   "execution_count": null,
   "id": "689868d0",
   "metadata": {},
   "outputs": [],
   "source": [
    "!pyspark-shell"
   ]
  }
 ],
 "metadata": {
  "kernelspec": {
   "display_name": "Python 3.8.10 ('env': venv)",
   "language": "python",
   "name": "python3"
  },
  "language_info": {
   "codemirror_mode": {
    "name": "ipython",
    "version": 3
   },
   "file_extension": ".py",
   "mimetype": "text/x-python",
   "name": "python",
   "nbconvert_exporter": "python",
   "pygments_lexer": "ipython3",
   "version": "3.8.10"
  },
  "vscode": {
   "interpreter": {
    "hash": "46610f5810384fe4288b77b9f4d66c501f3fb1ae567bc5f6904f4d4eba560a8f"
   }
  }
 },
 "nbformat": 4,
 "nbformat_minor": 5
}
